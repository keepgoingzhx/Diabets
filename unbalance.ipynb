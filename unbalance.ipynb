{
 "cells": [
  {
   "cell_type": "code",
   "execution_count": 1,
   "id": "4256def1",
   "metadata": {},
   "outputs": [],
   "source": [
    "import numpy as np\n",
    "import copy\n",
    "from sklearn import preprocessing\n",
    "import os\n",
    "import pandas as pd\n",
    "from matplotlib import pyplot as plt\n",
    "from numpy.random import seed\n",
    "from sklearn.model_selection import train_test_split,cross_val_score\n",
    "from xgboost import XGBClassifier\n",
    "from sklearn.preprocessing import RobustScaler\n",
    "from sklearn.preprocessing import QuantileTransformer\n",
    "\n",
    "from collections import Counter\n",
    "from imblearn.over_sampling import SMOTE\n",
    "from sklearn.metrics import f1_score,precision_score,recall_score,roc_auc_score,accuracy_score,roc_curve\n",
    "import sklearn.ensemble as se\n",
    "from sklearn.metrics import classification_report\n",
    "from sklearn.metrics import accuracy_score\n",
    "from xgboost import plot_importance\n",
    "import matplotlib.pyplot as plt\n",
    "from lightgbm.sklearn import LGBMClassifier\n",
    "from sklearn.neighbors import KNeighborsClassifier\n",
    "from sklearn.svm import SVC\n",
    "from sklearn.linear_model import LogisticRegression\n",
    "from sklearn.naive_bayes import GaussianNB\n",
    "from sklearn import tree\n",
    "from sklearn.ensemble import AdaBoostClassifier\n",
    "from sklearn.ensemble import GradientBoostingClassifier\n",
    "from sklearn.neural_network import MLPClassifier\n",
    "from catboost import CatBoostClassifier\n",
    "\n",
    "import seaborn as sns\n",
    "%matplotlib inline\n",
    "from xgboost import plot_importance\n",
    "from sklearn.model_selection import learning_curve\n",
    "from sklearn.model_selection import validation_curve\n",
    "from sklearn.model_selection import KFold\n",
    "import warnings\n",
    "from sklearn.metrics import confusion_matrix\n",
    "from imblearn.over_sampling import BorderlineSMOTE\n",
    "from sklearn.ensemble import RandomForestClassifier\n",
    "from sklearn import metrics"
   ]
  },
  {
   "cell_type": "code",
   "execution_count": 2,
   "id": "968613df",
   "metadata": {},
   "outputs": [],
   "source": [
    "file2 = 'afterfilter.xlsx'\n",
    "data = pd.read_excel(file2)"
   ]
  },
  {
   "cell_type": "code",
   "execution_count": 3,
   "id": "943d3935",
   "metadata": {},
   "outputs": [],
   "source": [
    "df = data"
   ]
  },
  {
   "cell_type": "markdown",
   "id": "e615dc06",
   "metadata": {},
   "source": [
    "'Diabetes','Annual-Family-Income','X60-sec-pulse','Systolic','Diastolic',\n",
    "            'Body-Mass-Index','Lymphocyte','Monocyte','Red-Blood-Cells','Hemoglobin',\n",
    "             'Mean-Cell-Vol','Mean-Cell-Hgb-Conc.','Platelet-count', 'Mean-Platelet-Vol', 'Segmented-Neutrophils',\n",
    "            'Red-Cell-Distribution-Width', 'ALP', 'AST', 'ALT',\n",
    "            'Creatinine', 'GGT', 'Iron', 'LDH', 'Phosphorus',\n",
    "            'Uric.Acid"
   ]
  },
  {
   "cell_type": "code",
   "execution_count": 4,
   "id": "2cd86170",
   "metadata": {},
   "outputs": [],
   "source": [
    "y =  df['Diabetes']\n",
    "x = df.drop(['Diabetes'],axis = 1)"
   ]
  },
  {
   "cell_type": "code",
   "execution_count": 5,
   "id": "806651c2",
   "metadata": {},
   "outputs": [],
   "source": [
    "from imblearn.over_sampling import ADASYN\n",
    "from sklearn.datasets import make_classification"
   ]
  },
  {
   "cell_type": "code",
   "execution_count": 6,
   "id": "97b16757",
   "metadata": {},
   "outputs": [],
   "source": [
    "#######ADASYN    过采样"
   ]
  },
  {
   "cell_type": "code",
   "execution_count": 7,
   "id": "332a6a0e",
   "metadata": {},
   "outputs": [],
   "source": [
    "df = data\n",
    "adasyn = ADASYN(sampling_strategy='auto', random_state=42)\n",
    "\n",
    "x_balance, y_balance = adasyn.fit_resample(x, y)\n",
    "\n",
    "X_train, X_test, y_train, y_test = train_test_split(x_balance,y_balance,test_size=0.2, random_state=42)"
   ]
  },
  {
   "cell_type": "code",
   "execution_count": null,
   "id": "3747ab13",
   "metadata": {},
   "outputs": [],
   "source": []
  },
  {
   "cell_type": "code",
   "execution_count": 8,
   "id": "74827b3e",
   "metadata": {
    "scrolled": false
   },
   "outputs": [
    {
     "name": "stdout",
     "output_type": "stream",
     "text": [
      "              precision    recall  f1-score   support\n",
      "\n",
      "           0     0.9784    0.9856    0.9820      5555\n",
      "           1     0.9858    0.9786    0.9822      5657\n",
      "\n",
      "    accuracy                         0.9821     11212\n",
      "   macro avg     0.9821    0.9821    0.9821     11212\n",
      "weighted avg     0.9821    0.9821    0.9821     11212\n",
      "\n"
     ]
    }
   ],
   "source": [
    "xg_model = XGBClassifier()\n",
    "xg_model.fit(X_train, y_train)\n",
    "xg_pred = xg_model.predict(X_test)\n",
    "xg_proba=xg_model.predict_proba(X_test)\n",
    "####评价指标\n",
    "print(classification_report(y_test, xg_pred,digits=4))\n"
   ]
  },
  {
   "cell_type": "code",
   "execution_count": 9,
   "id": "667b56cc",
   "metadata": {},
   "outputs": [
    {
     "data": {
      "text/plain": [
       "array([[5475,  121],\n",
       "       [  80, 5536]], dtype=int64)"
      ]
     },
     "execution_count": 9,
     "metadata": {},
     "output_type": "execute_result"
    }
   ],
   "source": [
    "from sklearn.metrics import confusion_matrix\n",
    "confusion_matrix(xg_pred,y_test)"
   ]
  },
  {
   "cell_type": "code",
   "execution_count": 9,
   "id": "b6baf3e9",
   "metadata": {},
   "outputs": [
    {
     "data": {
      "text/plain": [
       "0.9890405691213229"
      ]
     },
     "execution_count": 9,
     "metadata": {},
     "output_type": "execute_result"
    }
   ],
   "source": [
    "spc = 5144/(5144+57)\n",
    "spc"
   ]
  },
  {
   "cell_type": "code",
   "execution_count": null,
   "id": "f4825b07",
   "metadata": {},
   "outputs": [],
   "source": [
    "##########欠采样"
   ]
  },
  {
   "cell_type": "markdown",
   "id": "06c84fb5",
   "metadata": {},
   "source": [
    ",'Annual-Family-Income','X60-sec-pulse','Systolic','Diastolic',\n",
    "            'Body-Mass-Index','Lymphocyte','Monocyte','Red-Blood-Cells','Hemoglobin',\n",
    "             'Mean-Cell-Vol','Mean-Cell-Hgb-Conc.','Platelet-count', 'Mean-Platelet-Vol', 'Segmented-Neutrophils',\n",
    "            'Red-Cell-Distribution-Width', 'ALP', 'AST', 'ALT',\n",
    "            'Creatinine', 'GGT', 'Iron', 'LDH', 'Phosphorus',\n",
    "            'Uric.Acid'"
   ]
  },
  {
   "cell_type": "code",
   "execution_count": 27,
   "id": "2b194ba1",
   "metadata": {},
   "outputs": [],
   "source": [
    "df = data\n",
    "y =  df['Diabetes']\n",
    "x = df.drop(['Diabetes'],axis = 1)"
   ]
  },
  {
   "cell_type": "code",
   "execution_count": 28,
   "id": "c6cbe362",
   "metadata": {},
   "outputs": [],
   "source": [
    "\n",
    "# 使用集成方法EasyEnsembleClassifier处理不平衡样本\n",
    "from imblearn.ensemble import EasyEnsembleClassifier  # 导入简单集成方法EasyEnsembleClassifier\n",
    "model_EasyEnsemble = EasyEnsembleClassifier()  # 建立EasyEnsemble模型对象\n",
    "model_EasyEnsemble.fit(x, y)  # 输入数据并应用集成方法处理\n",
    "X_train, X_test, y_train, y_test = train_test_split(x,y,test_size=0.2, random_state=42)"
   ]
  },
  {
   "cell_type": "code",
   "execution_count": 29,
   "id": "62c25d90",
   "metadata": {
    "scrolled": true
   },
   "outputs": [
    {
     "name": "stdout",
     "output_type": "stream",
     "text": [
      "              precision    recall  f1-score   support\n",
      "\n",
      "           0     0.9657    0.9960    0.9807      5548\n",
      "           1     0.7284    0.2314    0.3512       255\n",
      "\n",
      "    accuracy                         0.9624      5803\n",
      "   macro avg     0.8471    0.6137    0.6659      5803\n",
      "weighted avg     0.9553    0.9624    0.9530      5803\n",
      "\n"
     ]
    }
   ],
   "source": [
    "xg_model = XGBClassifier()\n",
    "xg_model.fit(X_train, y_train)\n",
    "xg_pred = xg_model.predict(X_test)\n",
    "xg_proba=xg_model.predict_proba(X_test)\n",
    "####评价指标\n",
    "print(classification_report(y_test, xg_pred,digits=4))\n"
   ]
  },
  {
   "cell_type": "code",
   "execution_count": 30,
   "id": "a0b30b9b",
   "metadata": {},
   "outputs": [
    {
     "data": {
      "text/plain": [
       "array([[5526,  196],\n",
       "       [  22,   59]], dtype=int64)"
      ]
     },
     "execution_count": 30,
     "metadata": {},
     "output_type": "execute_result"
    }
   ],
   "source": [
    "from sklearn.metrics import confusion_matrix\n",
    "confusion_matrix(xg_pred,y_test)"
   ]
  },
  {
   "cell_type": "code",
   "execution_count": 25,
   "id": "d49fa577",
   "metadata": {},
   "outputs": [
    {
     "data": {
      "text/plain": [
       "0.23137254901960785"
      ]
     },
     "execution_count": 25,
     "metadata": {},
     "output_type": "execute_result"
    }
   ],
   "source": [
    "spc = 59/(59+196)\n",
    "spc"
   ]
  },
  {
   "cell_type": "code",
   "execution_count": null,
   "id": "76940d8a",
   "metadata": {},
   "outputs": [],
   "source": [
    "######欠采样方法RandomUnderSampler"
   ]
  },
  {
   "cell_type": "markdown",
   "id": "e1b9efb0",
   "metadata": {},
   "source": [
    ",'Annual-Family-Income','X60-sec-pulse','Systolic','Diastolic',\n",
    "            'Body-Mass-Index','Lymphocyte','Monocyte','Red-Blood-Cells','Hemoglobin',\n",
    "             'Mean-Cell-Vol','Mean-Cell-Hgb-Conc.','Platelet-count', 'Mean-Platelet-Vol', 'Segmented-Neutrophils',\n",
    "            'Red-Cell-Distribution-Width', 'ALP', 'AST', 'ALT',\n",
    "            'Creatinine', 'GGT', 'Iron', 'LDH', 'Phosphorus',\n",
    "            'Uric.Acid'"
   ]
  },
  {
   "cell_type": "code",
   "execution_count": 31,
   "id": "57e99e73",
   "metadata": {},
   "outputs": [],
   "source": [
    "df = data\n",
    "y =  df['Diabetes']\n",
    "x = df.drop(['Diabetes'],axis = 1)"
   ]
  },
  {
   "cell_type": "code",
   "execution_count": 32,
   "id": "d7a5cd26",
   "metadata": {},
   "outputs": [],
   "source": [
    "# 使用RandomUnderSampler方法进行欠采样处理\n",
    "from imblearn.under_sampling import RandomUnderSampler # 导入欠采样方法Random UnderSampler\n",
    "rus = RandomUnderSampler(random_state=0) # 建立RandomUnderSampler模型对象\n",
    "X_resampled, Y_resampled = rus.fit_resample(x, y) # 输入数据并进行欠采样处理\n",
    "X_train, X_test, y_train, y_test = train_test_split(X_resampled,Y_resampled,test_size=0.2, random_state=42)"
   ]
  },
  {
   "cell_type": "code",
   "execution_count": 33,
   "id": "848ee794",
   "metadata": {},
   "outputs": [
    {
     "name": "stdout",
     "output_type": "stream",
     "text": [
      "              precision    recall  f1-score   support\n",
      "\n",
      "           0     0.8287    0.8387    0.8337       248\n",
      "           1     0.8253    0.8147    0.8200       232\n",
      "\n",
      "    accuracy                         0.8271       480\n",
      "   macro avg     0.8270    0.8267    0.8268       480\n",
      "weighted avg     0.8271    0.8271    0.8270       480\n",
      "\n"
     ]
    }
   ],
   "source": [
    "xg_model = XGBClassifier()\n",
    "xg_model.fit(X_train, y_train)\n",
    "xg_pred = xg_model.predict(X_test)\n",
    "xg_proba=xg_model.predict_proba(X_test)\n",
    "####评价指标\n",
    "print(classification_report(y_test, xg_pred,digits=4))\n"
   ]
  },
  {
   "cell_type": "code",
   "execution_count": 34,
   "id": "fef20bbb",
   "metadata": {},
   "outputs": [
    {
     "data": {
      "text/plain": [
       "array([[208,  43],\n",
       "       [ 40, 189]], dtype=int64)"
      ]
     },
     "execution_count": 34,
     "metadata": {},
     "output_type": "execute_result"
    }
   ],
   "source": [
    "from sklearn.metrics import confusion_matrix\n",
    "confusion_matrix(xg_pred,y_test)"
   ]
  },
  {
   "cell_type": "code",
   "execution_count": 35,
   "id": "11ee9f49",
   "metadata": {},
   "outputs": [
    {
     "data": {
      "text/plain": [
       "0.8146551724137931"
      ]
     },
     "execution_count": 35,
     "metadata": {},
     "output_type": "execute_result"
    }
   ],
   "source": [
    "spc = 189/(189+43)\n",
    "spc"
   ]
  },
  {
   "cell_type": "markdown",
   "id": "325171d4",
   "metadata": {},
   "source": [
    "SMOTE"
   ]
  },
  {
   "cell_type": "code",
   "execution_count": 39,
   "id": "df981a80",
   "metadata": {},
   "outputs": [],
   "source": [
    "df = data\n",
    "y =  df['Diabetes']\n",
    "x = df.drop(['Diabetes'],axis = 1)"
   ]
  },
  {
   "cell_type": "code",
   "execution_count": 40,
   "id": "ec0fe38e",
   "metadata": {},
   "outputs": [],
   "source": [
    "x_balance,y_balance = SMOTE(random_state=42).fit_resample(x,y)\n",
    "#x_balance = pd.DataFrame(x_balance)\n",
    "X_train, X_test, y_train, y_test = train_test_split(x,y,test_size=0.2)"
   ]
  },
  {
   "cell_type": "code",
   "execution_count": 41,
   "id": "e34cd013",
   "metadata": {
    "scrolled": true
   },
   "outputs": [
    {
     "name": "stdout",
     "output_type": "stream",
     "text": [
      "              precision    recall  f1-score   support\n",
      "\n",
      "           0     0.9712    0.9928    0.9819      5563\n",
      "           1     0.6552    0.3167    0.4270       240\n",
      "\n",
      "    accuracy                         0.9648      5803\n",
      "   macro avg     0.8132    0.6547    0.7044      5803\n",
      "weighted avg     0.9581    0.9648    0.9589      5803\n",
      "\n"
     ]
    }
   ],
   "source": [
    "xg_model = XGBClassifier()\n",
    "xg_model.fit(X_train, y_train)\n",
    "xg_pred = xg_model.predict(X_test)\n",
    "xg_proba=xg_model.predict_proba(X_test)\n",
    "####评价指标\n",
    "print(classification_report(y_test, xg_pred,digits=4))\n"
   ]
  },
  {
   "cell_type": "code",
   "execution_count": 42,
   "id": "d4e91ce7",
   "metadata": {},
   "outputs": [
    {
     "data": {
      "text/plain": [
       "array([[5523,  164],\n",
       "       [  40,   76]], dtype=int64)"
      ]
     },
     "execution_count": 42,
     "metadata": {},
     "output_type": "execute_result"
    }
   ],
   "source": [
    "from sklearn.metrics import confusion_matrix\n",
    "confusion_matrix(xg_pred,y_test)"
   ]
  },
  {
   "cell_type": "code",
   "execution_count": 44,
   "id": "a4bd6ec6",
   "metadata": {},
   "outputs": [
    {
     "data": {
      "text/plain": [
       "0.31666666666666665"
      ]
     },
     "execution_count": 44,
     "metadata": {},
     "output_type": "execute_result"
    }
   ],
   "source": [
    "spc = 76/(76+164)\n",
    "spc"
   ]
  },
  {
   "cell_type": "code",
   "execution_count": null,
   "id": "a8c582ff",
   "metadata": {},
   "outputs": [],
   "source": []
  },
  {
   "cell_type": "code",
   "execution_count": null,
   "id": "259488d4",
   "metadata": {},
   "outputs": [],
   "source": []
  }
 ],
 "metadata": {
  "kernelspec": {
   "display_name": "Python 3 (ipykernel)",
   "language": "python",
   "name": "python3"
  },
  "language_info": {
   "codemirror_mode": {
    "name": "ipython",
    "version": 3
   },
   "file_extension": ".py",
   "mimetype": "text/x-python",
   "name": "python",
   "nbconvert_exporter": "python",
   "pygments_lexer": "ipython3",
   "version": "3.11.4"
  }
 },
 "nbformat": 4,
 "nbformat_minor": 5
}
